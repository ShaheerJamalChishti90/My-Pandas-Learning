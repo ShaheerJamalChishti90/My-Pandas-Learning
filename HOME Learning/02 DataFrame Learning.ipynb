{
 "cells": [
  {
   "cell_type": "code",
   "execution_count": 1,
   "id": "21333c1a-02e7-4509-8f26-03b4284e5f3c",
   "metadata": {},
   "outputs": [],
   "source": [
    "import numpy as np\n",
    "import pandas as pd"
   ]
  },
  {
   "cell_type": "code",
   "execution_count": 3,
   "id": "21f2e1c6",
   "metadata": {},
   "outputs": [],
   "source": [
    "#Dictionary is a Two dimensional Data Frame\n",
    "\n",
    "dict1 = {\n",
    "    \"name\":[\"Shaheer\", \"Mimi\", \"Mirani\", \"Aisyah\", \"Mariyam\", \"Sarah\"],\n",
    "    \"age\":[30, 22, 20, 18, 19, 22],\n",
    "    \"city\":[\"Karachi\", \"London\", \"Sumatra\", \"Jakatra\", \"Paris\", \"Washington DC\"],\n",
    "}"
   ]
  },
  {
   "cell_type": "code",
   "execution_count": 19,
   "id": "ab41a35f",
   "metadata": {},
   "outputs": [],
   "source": [
    "#Learning bout Two-Dimensional Data Frames\n",
    "my_mimi = pd.DataFrame(dict1)\n"
   ]
  },
  {
   "cell_type": "code",
   "execution_count": null,
   "id": "81c9d97b",
   "metadata": {},
   "outputs": [],
   "source": [
    "my_mimi"
   ]
  },
  {
   "cell_type": "code",
   "execution_count": null,
   "id": "5140bcec",
   "metadata": {},
   "outputs": [],
   "source": [
    "#Indexs: How to remove the index \n",
    "#If you are doing false: It means that you dont want anything\n",
    "#If you are doing True: It means that you  want anything\n",
    "my_excel = my_mimi.to_csv(\"My Beloved Mimi.csv\", index = True)\n",
    "print(my_excel)"
   ]
  },
  {
   "cell_type": "code",
   "execution_count": null,
   "id": "973d58b8",
   "metadata": {},
   "outputs": [],
   "source": [
    "my_mimi.head(3) #This is how i can see the first lines of my data"
   ]
  },
  {
   "cell_type": "code",
   "execution_count": null,
   "id": "37f0b287",
   "metadata": {},
   "outputs": [],
   "source": [
    "#This is how you can see the last lines of your data\n",
    "my_mimi.tail(3)"
   ]
  },
  {
   "cell_type": "code",
   "execution_count": null,
   "id": "175e35bf",
   "metadata": {},
   "outputs": [],
   "source": [
    "my_mimi.describe()"
   ]
  },
  {
   "cell_type": "code",
   "execution_count": 25,
   "id": "1f8b716f",
   "metadata": {},
   "outputs": [],
   "source": [
    "#Learning bout one-dimensional labeled array holding data type, If I remove np.nan from here the oitput will become int64\n",
    "number_list = [1, 2, 3, 4, 5, 11, 12, 13, 14, 15]"
   ]
  },
  {
   "cell_type": "code",
   "execution_count": null,
   "id": "a87a8b95",
   "metadata": {},
   "outputs": [],
   "source": [
    "#DataFrame and Series\n",
    "pd.Series(number_list)"
   ]
  },
  {
   "cell_type": "code",
   "execution_count": null,
   "id": "f90a5da2",
   "metadata": {},
   "outputs": [],
   "source": [
    "#Using date time index\n",
    "dates = pd.date_range(\"20250301\", periods=31)"
   ]
  },
  {
   "cell_type": "code",
   "execution_count": null,
   "id": "c817d393",
   "metadata": {},
   "outputs": [],
   "source": [
    "dates"
   ]
  },
  {
   "cell_type": "code",
   "execution_count": null,
   "id": "f9e09fc7",
   "metadata": {},
   "outputs": [],
   "source": [
    "#This is how I can change the values of any particular key \n",
    "#Getting the dict name, its particular row and the index number\n",
    "dict1[\"age\"][3] = 21 "
   ]
  },
  {
   "cell_type": "code",
   "execution_count": null,
   "id": "bef736d7",
   "metadata": {},
   "outputs": [],
   "source": [
    "pd.DataFrame(dict1)"
   ]
  },
  {
   "cell_type": "code",
   "execution_count": 8,
   "id": "4caaa773",
   "metadata": {},
   "outputs": [],
   "source": [
    "dict1[\"city\"][1] = \"Palembang\""
   ]
  },
  {
   "cell_type": "code",
   "execution_count": null,
   "id": "45113096",
   "metadata": {},
   "outputs": [],
   "source": [
    "pd.DataFrame(dict1)"
   ]
  },
  {
   "cell_type": "code",
   "execution_count": 10,
   "id": "b725b219",
   "metadata": {},
   "outputs": [],
   "source": [
    "dict1[\"age\"][3] = 19"
   ]
  },
  {
   "cell_type": "code",
   "execution_count": null,
   "id": "c4818aaa",
   "metadata": {},
   "outputs": [],
   "source": [
    "pd.DataFrame(dict1)"
   ]
  },
  {
   "cell_type": "code",
   "execution_count": 16,
   "id": "021d508c",
   "metadata": {},
   "outputs": [],
   "source": [
    "#How we can change the indexing/index number/row numbers\n",
    "my_mimi.index = [\"a\", \"b\", \"c\", 'd', \"e\", \"f\"]"
   ]
  },
  {
   "cell_type": "code",
   "execution_count": null,
   "id": "69284c06",
   "metadata": {},
   "outputs": [],
   "source": [
    "my_mimi"
   ]
  },
  {
   "cell_type": "code",
   "execution_count": null,
   "id": "2faabf4f",
   "metadata": {},
   "outputs": [],
   "source": [
    "#You can check the datatype like this\n",
    "type(my_mimi[\"age\"])"
   ]
  },
  {
   "cell_type": "code",
   "execution_count": 17,
   "id": "0bb39b59",
   "metadata": {},
   "outputs": [],
   "source": [
    "new_dataframe = pd.DataFrame(np.random.rand(10, 5), index = np.arange(10))"
   ]
  },
  {
   "cell_type": "code",
   "execution_count": null,
   "id": "b8ce58ed",
   "metadata": {},
   "outputs": [],
   "source": [
    "new_dataframe"
   ]
  },
  {
   "cell_type": "code",
   "execution_count": null,
   "id": "7875c8bf",
   "metadata": {},
   "outputs": [],
   "source": [
    "#So basically, T is the transpose, when you wanna convert rows into column and vice versa \n",
    "#So in Transpose: we basically covert Table's rows into column and column into rows \n",
    "new_dataframe.T #This is how you can take the transpose of a Table"
   ]
  },
  {
   "cell_type": "code",
   "execution_count": null,
   "id": "e58ea42c",
   "metadata": {},
   "outputs": [],
   "source": [
    "new_dataframe.head() "
   ]
  },
  {
   "cell_type": "code",
   "execution_count": null,
   "id": "78a906b2",
   "metadata": {},
   "outputs": [],
   "source": [
    "#Whenever you see \"axis\" ==> either row or a column\n",
    "#axis = 0 means that you are targeting the row \n",
    "#axis = 1 means that you are targeting the column \n",
    "\n",
    "#ascending = false : you are telling that i dont want the ascending order\n",
    "#descending = false : you are telling that i dont want the descending order\n",
    "\n",
    "new_dataframe.sort_index(axis=0, ascending=False) #If I do this, it will sort out the data(row, because axis=0) in the descending form "
   ]
  },
  {
   "cell_type": "code",
   "execution_count": null,
   "id": "a188e414",
   "metadata": {},
   "outputs": [],
   "source": [
    "new_dataframe.sort_index(axis=1, ascending=False)"
   ]
  },
  {
   "cell_type": "code",
   "execution_count": null,
   "id": "07bfd037",
   "metadata": {},
   "outputs": [],
   "source": [
    "# type(new_dataframe[0])\n",
    "# new_dataframe[3]\n",
    "\n",
    "new_dataframe"
   ]
  },
  {
   "cell_type": "code",
   "execution_count": 12,
   "id": "92ea6d20",
   "metadata": {},
   "outputs": [],
   "source": [
    "#Learning how to make a copy of a variable and then changing it\n",
    "new2_dataframe = new_dataframe.copy()"
   ]
  },
  {
   "cell_type": "code",
   "execution_count": null,
   "id": "e01fa468",
   "metadata": {},
   "outputs": [],
   "source": [
    "new2_dataframe[0][0] = \"Shaheer Jamal\""
   ]
  },
  {
   "cell_type": "code",
   "execution_count": null,
   "id": "93f1562e",
   "metadata": {},
   "outputs": [],
   "source": [
    "new2_dataframe"
   ]
  },
  {
   "cell_type": "code",
   "execution_count": null,
   "id": "9dbe6422",
   "metadata": {},
   "outputs": [],
   "source": [
    "new_dataframe.loc[0, 0] = \"Mirani Gita\""
   ]
  },
  {
   "cell_type": "code",
   "execution_count": 28,
   "id": "3f31a077",
   "metadata": {},
   "outputs": [],
   "source": [
    "new_dataframe.columns = list(\"ABCDE\")"
   ]
  },
  {
   "cell_type": "code",
   "execution_count": null,
   "id": "810f8c0a",
   "metadata": {},
   "outputs": [],
   "source": [
    "new_dataframe"
   ]
  },
  {
   "cell_type": "code",
   "execution_count": 30,
   "id": "8f2560c2",
   "metadata": {},
   "outputs": [],
   "source": [
    "new_dataframe.loc[0, 0] = 12345678910 "
   ]
  },
  {
   "cell_type": "code",
   "execution_count": null,
   "id": "e4326118",
   "metadata": {},
   "outputs": [],
   "source": [
    "new_dataframe"
   ]
  },
  {
   "cell_type": "code",
   "execution_count": null,
   "id": "9826ad4e",
   "metadata": {},
   "outputs": [],
   "source": [
    "new_dataframe.drop(0, axis = 1)"
   ]
  },
  {
   "cell_type": "code",
   "execution_count": null,
   "id": "5f34603b",
   "metadata": {},
   "outputs": [],
   "source": []
  }
 ],
 "metadata": {
  "kernelspec": {
   "display_name": "Python 3",
   "language": "python",
   "name": "python3"
  },
  "language_info": {
   "codemirror_mode": {
    "name": "ipython",
    "version": 3
   },
   "file_extension": ".py",
   "mimetype": "text/x-python",
   "name": "python",
   "nbconvert_exporter": "python",
   "pygments_lexer": "ipython3",
   "version": "3.12.4"
  }
 },
 "nbformat": 4,
 "nbformat_minor": 5
}
