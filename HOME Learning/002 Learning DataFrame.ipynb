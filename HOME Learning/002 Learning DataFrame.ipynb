{
 "cells": [
  {
   "cell_type": "code",
   "execution_count": 2,
   "metadata": {},
   "outputs": [],
   "source": [
    "import pandas as pd\n",
    "import numpy as np"
   ]
  },
  {
   "cell_type": "code",
   "execution_count": 3,
   "metadata": {},
   "outputs": [],
   "source": [
    "mimi = pd.DataFrame(np.random.rand(10, 5), index = np.arange(1, 11))"
   ]
  },
  {
   "cell_type": "code",
   "execution_count": 4,
   "metadata": {},
   "outputs": [],
   "source": [
    "mimi.columns = list(\"ABCDE\")\n"
   ]
  },
  {
   "cell_type": "code",
   "execution_count": null,
   "metadata": {},
   "outputs": [],
   "source": [
    "mimi"
   ]
  },
  {
   "cell_type": "code",
   "execution_count": 6,
   "metadata": {},
   "outputs": [],
   "source": [
    "mirani = mimi.copy()"
   ]
  },
  {
   "cell_type": "code",
   "execution_count": null,
   "metadata": {},
   "outputs": [],
   "source": [
    "mirani"
   ]
  },
  {
   "cell_type": "code",
   "execution_count": null,
   "metadata": {},
   "outputs": [],
   "source": [
    "mirani[\"A\"][1] = \"Mirani Gita\""
   ]
  },
  {
   "cell_type": "code",
   "execution_count": null,
   "metadata": {},
   "outputs": [],
   "source": [
    "mirani[\"B\"][1] = \"Shaheer Jamal\""
   ]
  },
  {
   "cell_type": "code",
   "execution_count": 10,
   "metadata": {},
   "outputs": [],
   "source": [
    "shaheer = pd.DataFrame(np.random.rand(10, 5), index = np.arange(1, 11))"
   ]
  },
  {
   "cell_type": "code",
   "execution_count": 11,
   "metadata": {},
   "outputs": [],
   "source": [
    "shaheer.columns = list(\"ABCDE\")"
   ]
  },
  {
   "cell_type": "code",
   "execution_count": 12,
   "metadata": {},
   "outputs": [],
   "source": [
    "pakistan = shaheer"
   ]
  },
  {
   "cell_type": "code",
   "execution_count": null,
   "metadata": {},
   "outputs": [],
   "source": [
    "pakistan[\"A\"][1] = 0.15418"
   ]
  },
  {
   "cell_type": "code",
   "execution_count": null,
   "metadata": {},
   "outputs": [],
   "source": [
    "shaheer"
   ]
  },
  {
   "cell_type": "code",
   "execution_count": 15,
   "metadata": {},
   "outputs": [],
   "source": [
    "#There are two ways to change any cell's value: \n",
    "#1. Change the cell's value directly: shaheer[\"A\"][0] = \"Pakistan\"\n",
    "#2. Change the cell's value using the loc's function: shaheer.loc[\"A\", 0] = \"Pakistan\"\n",
    "shaheer.loc[1, \"A\"] = 0.895745\n"
   ]
  },
  {
   "cell_type": "code",
   "execution_count": 16,
   "metadata": {},
   "outputs": [],
   "source": [
    "#If any column or row doesnt exist, and you give the parameters for those row or coulumn, loc will create them and fill the values in them as per the given command "
   ]
  },
  {
   "cell_type": "code",
   "execution_count": null,
   "metadata": {},
   "outputs": [],
   "source": [
    "#How to drop any column\n",
    "# 0 means rows\n",
    "# 1 means columns\n",
    "\n",
    "# shaheer = shaheer.drop(1, axis=1)\n",
    "# shaheer = shaheer.drop(\"B\", axis=0)\n",
    "\n",
    "shaheer "
   ]
  },
  {
   "cell_type": "code",
   "execution_count": null,
   "metadata": {},
   "outputs": [],
   "source": [
    "shaheer.loc[[10, 6], [\"A\", \"C\"]]"
   ]
  },
  {
   "cell_type": "code",
   "execution_count": null,
   "metadata": {},
   "outputs": [],
   "source": [
    "shaheer.loc[[4], :]"
   ]
  },
  {
   "cell_type": "code",
   "execution_count": null,
   "metadata": {},
   "outputs": [],
   "source": [
    "shaheer.loc[:, [\"B\"]]"
   ]
  },
  {
   "cell_type": "code",
   "execution_count": null,
   "metadata": {},
   "outputs": [],
   "source": [
    "# shaheer.loc[(shaheer[\"A\"] < 0.3) & (shaheer[\"C\"] > 0.1)]\n",
    "shaheer.loc[(shaheer[\"A\"] < 0.3) & (shaheer[\"E\"] > 0.5)]"
   ]
  },
  {
   "cell_type": "code",
   "execution_count": null,
   "metadata": {},
   "outputs": [],
   "source": [
    "shaheer.loc[(shaheer[\"B\"] > 0.35) & (shaheer[\"E\"] < 0.35)]"
   ]
  },
  {
   "cell_type": "code",
   "execution_count": null,
   "metadata": {},
   "outputs": [],
   "source": [
    "shaheer.iloc[0, 3]"
   ]
  },
  {
   "cell_type": "code",
   "execution_count": null,
   "metadata": {},
   "outputs": [],
   "source": [
    "shaheer.iloc[[0, 2], [2, 4]]"
   ]
  },
  {
   "cell_type": "code",
   "execution_count": 25,
   "metadata": {},
   "outputs": [],
   "source": [
    "#Heres how you can reset the index:\n",
    "#shaheer.reset_index(drop=True, inplace=True)"
   ]
  },
  {
   "cell_type": "code",
   "execution_count": null,
   "metadata": {},
   "outputs": [],
   "source": [
    "shaheer.shape"
   ]
  },
  {
   "cell_type": "code",
   "execution_count": null,
   "metadata": {},
   "outputs": [],
   "source": [
    "# shaheer.notna() shaheer.isna()"
   ]
  },
  {
   "cell_type": "code",
   "execution_count": 45,
   "metadata": {},
   "outputs": [
    {
     "data": {
      "text/html": [
       "<div>\n",
       "<style scoped>\n",
       "    .dataframe tbody tr th:only-of-type {\n",
       "        vertical-align: middle;\n",
       "    }\n",
       "\n",
       "    .dataframe tbody tr th {\n",
       "        vertical-align: top;\n",
       "    }\n",
       "\n",
       "    .dataframe thead th {\n",
       "        text-align: right;\n",
       "    }\n",
       "</style>\n",
       "<table border=\"1\" class=\"dataframe\">\n",
       "  <thead>\n",
       "    <tr style=\"text-align: right;\">\n",
       "      <th></th>\n",
       "      <th>A</th>\n",
       "      <th>B</th>\n",
       "      <th>C</th>\n",
       "      <th>D</th>\n",
       "      <th>E</th>\n",
       "    </tr>\n",
       "  </thead>\n",
       "  <tbody>\n",
       "    <tr>\n",
       "      <th>1</th>\n",
       "      <td>0.895745</td>\n",
       "      <td>0.614866</td>\n",
       "      <td>0.820657</td>\n",
       "      <td>0.552882</td>\n",
       "      <td>0.812316</td>\n",
       "    </tr>\n",
       "    <tr>\n",
       "      <th>2</th>\n",
       "      <td>0.361270</td>\n",
       "      <td>0.269657</td>\n",
       "      <td>0.136669</td>\n",
       "      <td>0.032845</td>\n",
       "      <td>0.747595</td>\n",
       "    </tr>\n",
       "    <tr>\n",
       "      <th>3</th>\n",
       "      <td>0.396266</td>\n",
       "      <td>0.245760</td>\n",
       "      <td>0.947379</td>\n",
       "      <td>0.171146</td>\n",
       "      <td>0.422996</td>\n",
       "    </tr>\n",
       "    <tr>\n",
       "      <th>4</th>\n",
       "      <td>0.178873</td>\n",
       "      <td>0.363135</td>\n",
       "      <td>0.431558</td>\n",
       "      <td>0.602976</td>\n",
       "      <td>0.364753</td>\n",
       "    </tr>\n",
       "    <tr>\n",
       "      <th>5</th>\n",
       "      <td>0.030454</td>\n",
       "      <td>0.591502</td>\n",
       "      <td>0.958410</td>\n",
       "      <td>0.116827</td>\n",
       "      <td>0.761944</td>\n",
       "    </tr>\n",
       "    <tr>\n",
       "      <th>6</th>\n",
       "      <td>0.167191</td>\n",
       "      <td>0.523594</td>\n",
       "      <td>0.138191</td>\n",
       "      <td>0.285573</td>\n",
       "      <td>0.892595</td>\n",
       "    </tr>\n",
       "    <tr>\n",
       "      <th>7</th>\n",
       "      <td>0.136469</td>\n",
       "      <td>0.502285</td>\n",
       "      <td>0.719341</td>\n",
       "      <td>0.581482</td>\n",
       "      <td>0.718230</td>\n",
       "    </tr>\n",
       "    <tr>\n",
       "      <th>8</th>\n",
       "      <td>0.976812</td>\n",
       "      <td>0.235775</td>\n",
       "      <td>0.009150</td>\n",
       "      <td>0.629752</td>\n",
       "      <td>0.131882</td>\n",
       "    </tr>\n",
       "    <tr>\n",
       "      <th>9</th>\n",
       "      <td>0.693192</td>\n",
       "      <td>0.849656</td>\n",
       "      <td>0.380517</td>\n",
       "      <td>0.252801</td>\n",
       "      <td>0.564161</td>\n",
       "    </tr>\n",
       "    <tr>\n",
       "      <th>10</th>\n",
       "      <td>0.192377</td>\n",
       "      <td>0.260860</td>\n",
       "      <td>0.371716</td>\n",
       "      <td>0.985556</td>\n",
       "      <td>0.224815</td>\n",
       "    </tr>\n",
       "  </tbody>\n",
       "</table>\n",
       "</div>"
      ],
      "text/plain": [
       "           A         B         C         D         E\n",
       "1   0.895745  0.614866  0.820657  0.552882  0.812316\n",
       "2   0.361270  0.269657  0.136669  0.032845  0.747595\n",
       "3   0.396266  0.245760  0.947379  0.171146  0.422996\n",
       "4   0.178873  0.363135  0.431558  0.602976  0.364753\n",
       "5   0.030454  0.591502  0.958410  0.116827  0.761944\n",
       "6   0.167191  0.523594  0.138191  0.285573  0.892595\n",
       "7   0.136469  0.502285  0.719341  0.581482  0.718230\n",
       "8   0.976812  0.235775  0.009150  0.629752  0.131882\n",
       "9   0.693192  0.849656  0.380517  0.252801  0.564161\n",
       "10  0.192377  0.260860  0.371716  0.985556  0.224815"
      ]
     },
     "execution_count": 45,
     "metadata": {},
     "output_type": "execute_result"
    }
   ],
   "source": [
    "shaheer"
   ]
  },
  {
   "cell_type": "code",
   "execution_count": 87,
   "metadata": {},
   "outputs": [],
   "source": [
    "abc = shaheer.replace(0.895745, \"Indonesia\")"
   ]
  },
  {
   "cell_type": "code",
   "execution_count": 88,
   "metadata": {},
   "outputs": [
    {
     "data": {
      "text/html": [
       "<div>\n",
       "<style scoped>\n",
       "    .dataframe tbody tr th:only-of-type {\n",
       "        vertical-align: middle;\n",
       "    }\n",
       "\n",
       "    .dataframe tbody tr th {\n",
       "        vertical-align: top;\n",
       "    }\n",
       "\n",
       "    .dataframe thead th {\n",
       "        text-align: right;\n",
       "    }\n",
       "</style>\n",
       "<table border=\"1\" class=\"dataframe\">\n",
       "  <thead>\n",
       "    <tr style=\"text-align: right;\">\n",
       "      <th></th>\n",
       "      <th>A</th>\n",
       "      <th>B</th>\n",
       "      <th>C</th>\n",
       "      <th>D</th>\n",
       "      <th>E</th>\n",
       "    </tr>\n",
       "  </thead>\n",
       "  <tbody>\n",
       "    <tr>\n",
       "      <th>1</th>\n",
       "      <td>Indonesia</td>\n",
       "      <td>0.614866</td>\n",
       "      <td>0.820657</td>\n",
       "      <td>0.552882</td>\n",
       "      <td>0.812316</td>\n",
       "    </tr>\n",
       "    <tr>\n",
       "      <th>2</th>\n",
       "      <td>0.36127</td>\n",
       "      <td>0.269657</td>\n",
       "      <td>0.136669</td>\n",
       "      <td>0.032845</td>\n",
       "      <td>0.747595</td>\n",
       "    </tr>\n",
       "    <tr>\n",
       "      <th>3</th>\n",
       "      <td>0.396266</td>\n",
       "      <td>0.245760</td>\n",
       "      <td>0.947379</td>\n",
       "      <td>0.171146</td>\n",
       "      <td>0.422996</td>\n",
       "    </tr>\n",
       "    <tr>\n",
       "      <th>4</th>\n",
       "      <td>0.178873</td>\n",
       "      <td>0.363135</td>\n",
       "      <td>0.431558</td>\n",
       "      <td>0.602976</td>\n",
       "      <td>0.364753</td>\n",
       "    </tr>\n",
       "    <tr>\n",
       "      <th>5</th>\n",
       "      <td>0.030454</td>\n",
       "      <td>0.591502</td>\n",
       "      <td>0.958410</td>\n",
       "      <td>0.116827</td>\n",
       "      <td>0.761944</td>\n",
       "    </tr>\n",
       "    <tr>\n",
       "      <th>6</th>\n",
       "      <td>0.167191</td>\n",
       "      <td>0.523594</td>\n",
       "      <td>0.138191</td>\n",
       "      <td>0.285573</td>\n",
       "      <td>0.892595</td>\n",
       "    </tr>\n",
       "    <tr>\n",
       "      <th>7</th>\n",
       "      <td>0.136469</td>\n",
       "      <td>0.502285</td>\n",
       "      <td>0.719341</td>\n",
       "      <td>0.581482</td>\n",
       "      <td>0.718230</td>\n",
       "    </tr>\n",
       "    <tr>\n",
       "      <th>8</th>\n",
       "      <td>0.976812</td>\n",
       "      <td>0.235775</td>\n",
       "      <td>0.009150</td>\n",
       "      <td>0.629752</td>\n",
       "      <td>0.131882</td>\n",
       "    </tr>\n",
       "    <tr>\n",
       "      <th>9</th>\n",
       "      <td>0.693192</td>\n",
       "      <td>0.849656</td>\n",
       "      <td>0.380517</td>\n",
       "      <td>0.252801</td>\n",
       "      <td>0.564161</td>\n",
       "    </tr>\n",
       "    <tr>\n",
       "      <th>10</th>\n",
       "      <td>0.192377</td>\n",
       "      <td>0.260860</td>\n",
       "      <td>0.371716</td>\n",
       "      <td>0.985556</td>\n",
       "      <td>0.224815</td>\n",
       "    </tr>\n",
       "  </tbody>\n",
       "</table>\n",
       "</div>"
      ],
      "text/plain": [
       "            A         B         C         D         E\n",
       "1   Indonesia  0.614866  0.820657  0.552882  0.812316\n",
       "2     0.36127  0.269657  0.136669  0.032845  0.747595\n",
       "3    0.396266  0.245760  0.947379  0.171146  0.422996\n",
       "4    0.178873  0.363135  0.431558  0.602976  0.364753\n",
       "5    0.030454  0.591502  0.958410  0.116827  0.761944\n",
       "6    0.167191  0.523594  0.138191  0.285573  0.892595\n",
       "7    0.136469  0.502285  0.719341  0.581482  0.718230\n",
       "8    0.976812  0.235775  0.009150  0.629752  0.131882\n",
       "9    0.693192  0.849656  0.380517  0.252801  0.564161\n",
       "10   0.192377  0.260860  0.371716  0.985556  0.224815"
      ]
     },
     "execution_count": 88,
     "metadata": {},
     "output_type": "execute_result"
    }
   ],
   "source": [
    "abc"
   ]
  },
  {
   "cell_type": "code",
   "execution_count": 39,
   "metadata": {},
   "outputs": [
    {
     "data": {
      "text/plain": [
       "np.float64(0.25280072666059616)"
      ]
     },
     "execution_count": 39,
     "metadata": {},
     "output_type": "execute_result"
    }
   ],
   "source": [
    "# shaheer.at[5, \"A\"]\n",
    "shaheer.iat[8, 3]"
   ]
  }
 ],
 "metadata": {
  "kernelspec": {
   "display_name": "Python 3",
   "language": "python",
   "name": "python3"
  },
  "language_info": {
   "codemirror_mode": {
    "name": "ipython",
    "version": 3
   },
   "file_extension": ".py",
   "mimetype": "text/x-python",
   "name": "python",
   "nbconvert_exporter": "python",
   "pygments_lexer": "ipython3",
   "version": "3.12.4"
  }
 },
 "nbformat": 4,
 "nbformat_minor": 2
}
