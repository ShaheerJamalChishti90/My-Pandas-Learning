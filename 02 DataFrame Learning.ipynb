{
 "cells": [
  {
   "cell_type": "code",
   "execution_count": 2,
   "id": "21333c1a-02e7-4509-8f26-03b4284e5f3c",
   "metadata": {},
   "outputs": [],
   "source": [
    "import numpy as np\n",
    "import pandas as pd"
   ]
  },
  {
   "cell_type": "code",
   "execution_count": 3,
   "id": "21f2e1c6",
   "metadata": {},
   "outputs": [],
   "source": [
    "#Dictionary is a Two dimensional Data Frame\n",
    "\n",
    "dict1 = {\n",
    "    \"name\":[\"Shaheer\", \"Mimi\", \"Mirani\", \"Aisyah\", \"Mariyam\", \"Sarah\"],\n",
    "    \"age\":[30, 22, 20, 18, 19, 22],\n",
    "    \"city\":[\"Karachi\", \"London\", \"Sumatra\", \"Jakatra\", \"Paris\", \"Washington DC\"],\n",
    "}"
   ]
  },
  {
   "cell_type": "code",
   "execution_count": 19,
   "id": "ab41a35f",
   "metadata": {},
   "outputs": [],
   "source": [
    "#Learning bout Two-Dimensional Data Frames\n",
    "my_mimi = pd.DataFrame(dict1)\n"
   ]
  },
  {
   "cell_type": "code",
   "execution_count": null,
   "id": "81c9d97b",
   "metadata": {},
   "outputs": [],
   "source": [
    "my_mimi"
   ]
  },
  {
   "cell_type": "code",
   "execution_count": null,
   "id": "5140bcec",
   "metadata": {},
   "outputs": [],
   "source": [
    "#Indexs: How to remove the index \n",
    "#If you are doing false: It means that you dont want anything\n",
    "#If you are doing True: It means that you  want anything\n",
    "my_excel = my_mimi.to_csv(\"My Beloved Mimi.csv\", index = True)\n",
    "print(my_excel)"
   ]
  },
  {
   "cell_type": "code",
   "execution_count": null,
   "id": "973d58b8",
   "metadata": {},
   "outputs": [],
   "source": [
    "my_mimi.head(3) #This is how i can see the first lines of my data"
   ]
  },
  {
   "cell_type": "code",
   "execution_count": null,
   "id": "37f0b287",
   "metadata": {},
   "outputs": [],
   "source": [
    "#This is how you can see the last lines of your data\n",
    "my_mimi.tail(3)"
   ]
  },
  {
   "cell_type": "code",
   "execution_count": null,
   "id": "175e35bf",
   "metadata": {},
   "outputs": [],
   "source": [
    "my_mimi.describe()"
   ]
  },
  {
   "cell_type": "code",
   "execution_count": 25,
   "id": "1f8b716f",
   "metadata": {},
   "outputs": [],
   "source": [
    "#Learning bout one-dimensional labeled array holding data type, If I remove np.nan from here the oitput will become int64\n",
    "number_list = [1, 2, 3, 4, 5, 11, 12, 13, 14, 15]"
   ]
  },
  {
   "cell_type": "code",
   "execution_count": null,
   "id": "a87a8b95",
   "metadata": {},
   "outputs": [],
   "source": [
    "#DataFrame and Series\n",
    "pd.Series(number_list)"
   ]
  },
  {
   "cell_type": "code",
   "execution_count": null,
   "id": "f90a5da2",
   "metadata": {},
   "outputs": [],
   "source": [
    "#Using date time index\n",
    "dates = pd.date_range(\"20250301\", periods=31)"
   ]
  },
  {
   "cell_type": "code",
   "execution_count": null,
   "id": "c817d393",
   "metadata": {},
   "outputs": [],
   "source": [
    "dates"
   ]
  },
  {
   "cell_type": "code",
   "execution_count": null,
   "id": "f9e09fc7",
   "metadata": {},
   "outputs": [],
   "source": [
    "#This is how I can change the values of any particular key \n",
    "#Getting the dict name, its particular row and the index number\n",
    "dict1[\"age\"][3] = 21 "
   ]
  },
  {
   "cell_type": "code",
   "execution_count": 6,
   "id": "bef736d7",
   "metadata": {},
   "outputs": [
    {
     "data": {
      "text/html": [
       "<div>\n",
       "<style scoped>\n",
       "    .dataframe tbody tr th:only-of-type {\n",
       "        vertical-align: middle;\n",
       "    }\n",
       "\n",
       "    .dataframe tbody tr th {\n",
       "        vertical-align: top;\n",
       "    }\n",
       "\n",
       "    .dataframe thead th {\n",
       "        text-align: right;\n",
       "    }\n",
       "</style>\n",
       "<table border=\"1\" class=\"dataframe\">\n",
       "  <thead>\n",
       "    <tr style=\"text-align: right;\">\n",
       "      <th></th>\n",
       "      <th>name</th>\n",
       "      <th>age</th>\n",
       "      <th>city</th>\n",
       "    </tr>\n",
       "  </thead>\n",
       "  <tbody>\n",
       "    <tr>\n",
       "      <th>0</th>\n",
       "      <td>Shaheer</td>\n",
       "      <td>30</td>\n",
       "      <td>Karachi</td>\n",
       "    </tr>\n",
       "    <tr>\n",
       "      <th>1</th>\n",
       "      <td>Mimi</td>\n",
       "      <td>22</td>\n",
       "      <td>London</td>\n",
       "    </tr>\n",
       "    <tr>\n",
       "      <th>2</th>\n",
       "      <td>Mirani</td>\n",
       "      <td>20</td>\n",
       "      <td>Sumatra</td>\n",
       "    </tr>\n",
       "    <tr>\n",
       "      <th>3</th>\n",
       "      <td>Aisyah</td>\n",
       "      <td>21</td>\n",
       "      <td>Jakatra</td>\n",
       "    </tr>\n",
       "    <tr>\n",
       "      <th>4</th>\n",
       "      <td>Mariyam</td>\n",
       "      <td>19</td>\n",
       "      <td>Paris</td>\n",
       "    </tr>\n",
       "    <tr>\n",
       "      <th>5</th>\n",
       "      <td>Sarah</td>\n",
       "      <td>22</td>\n",
       "      <td>Washington DC</td>\n",
       "    </tr>\n",
       "  </tbody>\n",
       "</table>\n",
       "</div>"
      ],
      "text/plain": [
       "      name  age           city\n",
       "0  Shaheer   30        Karachi\n",
       "1     Mimi   22         London\n",
       "2   Mirani   20        Sumatra\n",
       "3   Aisyah   21        Jakatra\n",
       "4  Mariyam   19          Paris\n",
       "5    Sarah   22  Washington DC"
      ]
     },
     "execution_count": 6,
     "metadata": {},
     "output_type": "execute_result"
    }
   ],
   "source": [
    "pd.DataFrame(dict1)"
   ]
  },
  {
   "cell_type": "code",
   "execution_count": 8,
   "id": "4caaa773",
   "metadata": {},
   "outputs": [],
   "source": [
    "dict1[\"city\"][1] = \"Palembang\""
   ]
  },
  {
   "cell_type": "code",
   "execution_count": 9,
   "id": "45113096",
   "metadata": {},
   "outputs": [
    {
     "data": {
      "text/html": [
       "<div>\n",
       "<style scoped>\n",
       "    .dataframe tbody tr th:only-of-type {\n",
       "        vertical-align: middle;\n",
       "    }\n",
       "\n",
       "    .dataframe tbody tr th {\n",
       "        vertical-align: top;\n",
       "    }\n",
       "\n",
       "    .dataframe thead th {\n",
       "        text-align: right;\n",
       "    }\n",
       "</style>\n",
       "<table border=\"1\" class=\"dataframe\">\n",
       "  <thead>\n",
       "    <tr style=\"text-align: right;\">\n",
       "      <th></th>\n",
       "      <th>name</th>\n",
       "      <th>age</th>\n",
       "      <th>city</th>\n",
       "    </tr>\n",
       "  </thead>\n",
       "  <tbody>\n",
       "    <tr>\n",
       "      <th>0</th>\n",
       "      <td>Shaheer</td>\n",
       "      <td>30</td>\n",
       "      <td>Karachi</td>\n",
       "    </tr>\n",
       "    <tr>\n",
       "      <th>1</th>\n",
       "      <td>Mimi</td>\n",
       "      <td>22</td>\n",
       "      <td>Palembang</td>\n",
       "    </tr>\n",
       "    <tr>\n",
       "      <th>2</th>\n",
       "      <td>Mirani</td>\n",
       "      <td>20</td>\n",
       "      <td>Sumatra</td>\n",
       "    </tr>\n",
       "    <tr>\n",
       "      <th>3</th>\n",
       "      <td>Aisyah</td>\n",
       "      <td>21</td>\n",
       "      <td>Jakatra</td>\n",
       "    </tr>\n",
       "    <tr>\n",
       "      <th>4</th>\n",
       "      <td>Mariyam</td>\n",
       "      <td>19</td>\n",
       "      <td>Paris</td>\n",
       "    </tr>\n",
       "    <tr>\n",
       "      <th>5</th>\n",
       "      <td>Sarah</td>\n",
       "      <td>22</td>\n",
       "      <td>Washington DC</td>\n",
       "    </tr>\n",
       "  </tbody>\n",
       "</table>\n",
       "</div>"
      ],
      "text/plain": [
       "      name  age           city\n",
       "0  Shaheer   30        Karachi\n",
       "1     Mimi   22      Palembang\n",
       "2   Mirani   20        Sumatra\n",
       "3   Aisyah   21        Jakatra\n",
       "4  Mariyam   19          Paris\n",
       "5    Sarah   22  Washington DC"
      ]
     },
     "execution_count": 9,
     "metadata": {},
     "output_type": "execute_result"
    }
   ],
   "source": [
    "pd.DataFrame(dict1)"
   ]
  },
  {
   "cell_type": "code",
   "execution_count": 10,
   "id": "b725b219",
   "metadata": {},
   "outputs": [],
   "source": [
    "dict1[\"age\"][3] = 19"
   ]
  },
  {
   "cell_type": "code",
   "execution_count": 11,
   "id": "c4818aaa",
   "metadata": {},
   "outputs": [
    {
     "data": {
      "text/html": [
       "<div>\n",
       "<style scoped>\n",
       "    .dataframe tbody tr th:only-of-type {\n",
       "        vertical-align: middle;\n",
       "    }\n",
       "\n",
       "    .dataframe tbody tr th {\n",
       "        vertical-align: top;\n",
       "    }\n",
       "\n",
       "    .dataframe thead th {\n",
       "        text-align: right;\n",
       "    }\n",
       "</style>\n",
       "<table border=\"1\" class=\"dataframe\">\n",
       "  <thead>\n",
       "    <tr style=\"text-align: right;\">\n",
       "      <th></th>\n",
       "      <th>name</th>\n",
       "      <th>age</th>\n",
       "      <th>city</th>\n",
       "    </tr>\n",
       "  </thead>\n",
       "  <tbody>\n",
       "    <tr>\n",
       "      <th>0</th>\n",
       "      <td>Shaheer</td>\n",
       "      <td>30</td>\n",
       "      <td>Karachi</td>\n",
       "    </tr>\n",
       "    <tr>\n",
       "      <th>1</th>\n",
       "      <td>Mimi</td>\n",
       "      <td>22</td>\n",
       "      <td>Palembang</td>\n",
       "    </tr>\n",
       "    <tr>\n",
       "      <th>2</th>\n",
       "      <td>Mirani</td>\n",
       "      <td>20</td>\n",
       "      <td>Sumatra</td>\n",
       "    </tr>\n",
       "    <tr>\n",
       "      <th>3</th>\n",
       "      <td>Aisyah</td>\n",
       "      <td>19</td>\n",
       "      <td>Jakatra</td>\n",
       "    </tr>\n",
       "    <tr>\n",
       "      <th>4</th>\n",
       "      <td>Mariyam</td>\n",
       "      <td>19</td>\n",
       "      <td>Paris</td>\n",
       "    </tr>\n",
       "    <tr>\n",
       "      <th>5</th>\n",
       "      <td>Sarah</td>\n",
       "      <td>22</td>\n",
       "      <td>Washington DC</td>\n",
       "    </tr>\n",
       "  </tbody>\n",
       "</table>\n",
       "</div>"
      ],
      "text/plain": [
       "      name  age           city\n",
       "0  Shaheer   30        Karachi\n",
       "1     Mimi   22      Palembang\n",
       "2   Mirani   20        Sumatra\n",
       "3   Aisyah   19        Jakatra\n",
       "4  Mariyam   19          Paris\n",
       "5    Sarah   22  Washington DC"
      ]
     },
     "execution_count": 11,
     "metadata": {},
     "output_type": "execute_result"
    }
   ],
   "source": [
    "pd.DataFrame(dict1)"
   ]
  },
  {
   "cell_type": "code",
   "execution_count": 16,
   "id": "021d508c",
   "metadata": {},
   "outputs": [],
   "source": [
    "#How we can change the indexing/index number/row numbers\n",
    "my_mimi.index = [\"a\", \"b\", \"c\", 'd', \"e\", \"f\"]"
   ]
  },
  {
   "cell_type": "code",
   "execution_count": 17,
   "id": "69284c06",
   "metadata": {},
   "outputs": [
    {
     "data": {
      "text/html": [
       "<div>\n",
       "<style scoped>\n",
       "    .dataframe tbody tr th:only-of-type {\n",
       "        vertical-align: middle;\n",
       "    }\n",
       "\n",
       "    .dataframe tbody tr th {\n",
       "        vertical-align: top;\n",
       "    }\n",
       "\n",
       "    .dataframe thead th {\n",
       "        text-align: right;\n",
       "    }\n",
       "</style>\n",
       "<table border=\"1\" class=\"dataframe\">\n",
       "  <thead>\n",
       "    <tr style=\"text-align: right;\">\n",
       "      <th></th>\n",
       "      <th>name</th>\n",
       "      <th>age</th>\n",
       "      <th>city</th>\n",
       "    </tr>\n",
       "  </thead>\n",
       "  <tbody>\n",
       "    <tr>\n",
       "      <th>a</th>\n",
       "      <td>Shaheer</td>\n",
       "      <td>30</td>\n",
       "      <td>Karachi</td>\n",
       "    </tr>\n",
       "    <tr>\n",
       "      <th>b</th>\n",
       "      <td>Mimi</td>\n",
       "      <td>22</td>\n",
       "      <td>Palembang</td>\n",
       "    </tr>\n",
       "    <tr>\n",
       "      <th>c</th>\n",
       "      <td>Mirani</td>\n",
       "      <td>20</td>\n",
       "      <td>Sumatra</td>\n",
       "    </tr>\n",
       "    <tr>\n",
       "      <th>d</th>\n",
       "      <td>Aisyah</td>\n",
       "      <td>19</td>\n",
       "      <td>Jakatra</td>\n",
       "    </tr>\n",
       "    <tr>\n",
       "      <th>e</th>\n",
       "      <td>Mariyam</td>\n",
       "      <td>19</td>\n",
       "      <td>Paris</td>\n",
       "    </tr>\n",
       "    <tr>\n",
       "      <th>f</th>\n",
       "      <td>Sarah</td>\n",
       "      <td>22</td>\n",
       "      <td>Washington DC</td>\n",
       "    </tr>\n",
       "  </tbody>\n",
       "</table>\n",
       "</div>"
      ],
      "text/plain": [
       "      name  age           city\n",
       "a  Shaheer   30        Karachi\n",
       "b     Mimi   22      Palembang\n",
       "c   Mirani   20        Sumatra\n",
       "d   Aisyah   19        Jakatra\n",
       "e  Mariyam   19          Paris\n",
       "f    Sarah   22  Washington DC"
      ]
     },
     "execution_count": 17,
     "metadata": {},
     "output_type": "execute_result"
    }
   ],
   "source": [
    "my_mimi"
   ]
  },
  {
   "cell_type": "code",
   "execution_count": 24,
   "id": "2faabf4f",
   "metadata": {},
   "outputs": [
    {
     "data": {
      "text/plain": [
       "pandas.core.series.Series"
      ]
     },
     "execution_count": 24,
     "metadata": {},
     "output_type": "execute_result"
    }
   ],
   "source": [
    "#You can check the datatype like this\n",
    "type(my_mimi[\"age\"])"
   ]
  },
  {
   "cell_type": "markdown",
   "id": "1a64e4ed",
   "metadata": {},
   "source": []
  }
 ],
 "metadata": {
  "kernelspec": {
   "display_name": "Python 3",
   "language": "python",
   "name": "python3"
  },
  "language_info": {
   "codemirror_mode": {
    "name": "ipython",
    "version": 3
   },
   "file_extension": ".py",
   "mimetype": "text/x-python",
   "name": "python",
   "nbconvert_exporter": "python",
   "pygments_lexer": "ipython3",
   "version": "3.12.4"
  }
 },
 "nbformat": 4,
 "nbformat_minor": 5
}
